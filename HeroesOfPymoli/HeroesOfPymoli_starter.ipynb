{
 "cells": [
  {
   "cell_type": "markdown",
   "metadata": {},
   "source": [
    "### Note\n",
    "* Instructions have been included for each segment. You do not have to follow them exactly, but they are included to help you think through the steps."
   ]
  },
  {
   "cell_type": "code",
   "execution_count": 212,
   "metadata": {},
   "outputs": [],
   "source": [
    "# Dependencies and Setup\n",
    "import pandas as pd\n",
    "\n",
    "# File to Load (Remember to Change These)\n",
    "file_to_load = \"Resources/purchase_data.csv\"\n",
    "\n",
    "# Read Purchasing File and store into Pandas data frame\n",
    "purchase_data_df = pd.read_csv(file_to_load)"
   ]
  },
  {
   "cell_type": "markdown",
   "metadata": {},
   "source": [
    "## Player Count"
   ]
  },
  {
   "cell_type": "markdown",
   "metadata": {},
   "source": [
    "* Display the total number of players\n"
   ]
  },
  {
   "cell_type": "code",
   "execution_count": 213,
   "metadata": {},
   "outputs": [
    {
     "data": {
      "text/html": [
       "<div>\n",
       "<style scoped>\n",
       "    .dataframe tbody tr th:only-of-type {\n",
       "        vertical-align: middle;\n",
       "    }\n",
       "\n",
       "    .dataframe tbody tr th {\n",
       "        vertical-align: top;\n",
       "    }\n",
       "\n",
       "    .dataframe thead th {\n",
       "        text-align: right;\n",
       "    }\n",
       "</style>\n",
       "<table border=\"1\" class=\"dataframe\">\n",
       "  <thead>\n",
       "    <tr style=\"text-align: right;\">\n",
       "      <th></th>\n",
       "      <th>Total Players</th>\n",
       "    </tr>\n",
       "  </thead>\n",
       "  <tbody>\n",
       "    <tr>\n",
       "      <th>0</th>\n",
       "      <td>576</td>\n",
       "    </tr>\n",
       "  </tbody>\n",
       "</table>\n",
       "</div>"
      ],
      "text/plain": [
       "   Total Players\n",
       "0            576"
      ]
     },
     "execution_count": 213,
     "metadata": {},
     "output_type": "execute_result"
    }
   ],
   "source": [
    "# counting unique players\n",
    "\n",
    "total_players_df = purchase_data_df[\"SN\"].nunique()\n",
    "data = [total_players_df] \n",
    "total_players_df= pd.DataFrame(data, columns = [\"Total Players\"])\n",
    "total_players_df"
   ]
  },
  {
   "cell_type": "markdown",
   "metadata": {},
   "source": [
    "## Purchasing Analysis (Total)"
   ]
  },
  {
   "cell_type": "markdown",
   "metadata": {},
   "source": [
    "* Run basic calculations to obtain number of unique items, average price, etc.\n",
    "\n",
    "\n",
    "* Create a summary data frame to hold the results\n",
    "\n",
    "\n",
    "* Optional: give the displayed data cleaner formatting\n",
    "\n",
    "\n",
    "* Display the summary data frame\n"
   ]
  },
  {
   "cell_type": "code",
   "execution_count": 258,
   "metadata": {
    "scrolled": true
   },
   "outputs": [
    {
     "data": {
      "text/html": [
       "<style  type=\"text/css\" >\n",
       "</style><table id=\"T_07e19c38_c045_11ea_95ac_c0b5d77dedda\" ><thead>    <tr>        <th class=\"blank level0\" ></th>        <th class=\"col_heading level0 col0\" >Number of Unique Items</th>        <th class=\"col_heading level0 col1\" >Average Price</th>        <th class=\"col_heading level0 col2\" >Number of Purchases</th>        <th class=\"col_heading level0 col3\" >Total Revenue</th>    </tr></thead><tbody>\n",
       "                <tr>\n",
       "                        <th id=\"T_07e19c38_c045_11ea_95ac_c0b5d77deddalevel0_row0\" class=\"row_heading level0 row0\" >0</th>\n",
       "                        <td id=\"T_07e19c38_c045_11ea_95ac_c0b5d77deddarow0_col0\" class=\"data row0 col0\" >179</td>\n",
       "                        <td id=\"T_07e19c38_c045_11ea_95ac_c0b5d77deddarow0_col1\" class=\"data row0 col1\" >$3.05</td>\n",
       "                        <td id=\"T_07e19c38_c045_11ea_95ac_c0b5d77deddarow0_col2\" class=\"data row0 col2\" >780</td>\n",
       "                        <td id=\"T_07e19c38_c045_11ea_95ac_c0b5d77deddarow0_col3\" class=\"data row0 col3\" >$2,379.77</td>\n",
       "            </tr>\n",
       "    </tbody></table>"
      ],
      "text/plain": [
       "<pandas.io.formats.style.Styler at 0x24b7adb0748>"
      ]
     },
     "execution_count": 258,
     "metadata": {},
     "output_type": "execute_result"
    }
   ],
   "source": [
    "# Calculations\n",
    "unique_items_df = purchase_data_df[\"Item Name\"].nunique()\n",
    "average_price_df = purchase_data_df[\"Price\"].mean()\n",
    "number_purchases_df = purchase_data_df[\"SN\"].count()\n",
    "total_revenue_df = purchase_data_df[\"Price\"].sum()\n",
    "\n",
    "#format\n",
    "\n",
    "\n",
    "# writing to df\n",
    "data = {\"Number of Unique Items\":[unique_items_df], \"Average Price\": [average_price_df], \"Number of Purchases\": [number_purchases_df], \"Total Revenue\": [total_revenue_df]}\n",
    "summary_data_df = pd.DataFrame(data)\n",
    "summary_data_df\n",
    "\n",
    "summary_data_df.style.format({\"Average Price\": \"${:,.2f}\", \"Total Revenue\": \"${:,.2f}\"})"
   ]
  },
  {
   "cell_type": "markdown",
   "metadata": {},
   "source": [
    "## Gender Demographics"
   ]
  },
  {
   "cell_type": "markdown",
   "metadata": {},
   "source": [
    "* Percentage and Count of Male Players\n",
    "\n",
    "\n",
    "* Percentage and Count of Female Players\n",
    "\n",
    "\n",
    "* Percentage and Count of Other / Non-Disclosed\n",
    "\n",
    "\n"
   ]
  },
  {
   "cell_type": "code",
   "execution_count": 215,
   "metadata": {},
   "outputs": [
    {
     "data": {
      "text/html": [
       "<div>\n",
       "<style scoped>\n",
       "    .dataframe tbody tr th:only-of-type {\n",
       "        vertical-align: middle;\n",
       "    }\n",
       "\n",
       "    .dataframe tbody tr th {\n",
       "        vertical-align: top;\n",
       "    }\n",
       "\n",
       "    .dataframe thead th {\n",
       "        text-align: right;\n",
       "    }\n",
       "</style>\n",
       "<table border=\"1\" class=\"dataframe\">\n",
       "  <thead>\n",
       "    <tr style=\"text-align: right;\">\n",
       "      <th></th>\n",
       "      <th>Total Count</th>\n",
       "      <th>Percentage of Players</th>\n",
       "    </tr>\n",
       "    <tr>\n",
       "      <th>Gender</th>\n",
       "      <th></th>\n",
       "      <th></th>\n",
       "    </tr>\n",
       "  </thead>\n",
       "  <tbody>\n",
       "    <tr>\n",
       "      <th>Male</th>\n",
       "      <td>484</td>\n",
       "      <td>84.027778</td>\n",
       "    </tr>\n",
       "    <tr>\n",
       "      <th>Female</th>\n",
       "      <td>81</td>\n",
       "      <td>14.062500</td>\n",
       "    </tr>\n",
       "    <tr>\n",
       "      <th>Other / Non-Disclosed</th>\n",
       "      <td>11</td>\n",
       "      <td>1.909722</td>\n",
       "    </tr>\n",
       "  </tbody>\n",
       "</table>\n",
       "</div>"
      ],
      "text/plain": [
       "                       Total Count  Percentage of Players\n",
       "Gender                                                   \n",
       "Male                           484              84.027778\n",
       "Female                          81              14.062500\n",
       "Other / Non-Disclosed           11               1.909722"
      ]
     },
     "execution_count": 215,
     "metadata": {},
     "output_type": "execute_result"
    }
   ],
   "source": [
    "# Drop duplicate names\n",
    "drop_duplicates_df = purchase_data_df.drop_duplicates(subset='SN', keep=\"last\")\n",
    "drop_duplicates_df \n",
    "\n",
    "# count genders\n",
    "counted_gender_df = drop_duplicates_df[\"Gender\"].value_counts().rename_axis('Gender').to_frame('Total Count')\n",
    "counted_gender_df\n",
    "\n",
    "# calclate percent\n",
    "gender_percent_df = drop_duplicates_df[\"Gender\"].value_counts(normalize=True) * 100\n",
    "percent_df = gender_percent_df.rename_axis(\"Gender\").to_frame('Percentage of Players')\n",
    "\n",
    "# Merge Data Frames\n",
    "merged_genger_demographcs_df = pd.merge(counted_gender_df, percent_df, on = \"Gender\")\n",
    "merged_genger_demographcs_df"
   ]
  },
  {
   "cell_type": "markdown",
   "metadata": {},
   "source": [
    "\n",
    "## Purchasing Analysis (Gender)"
   ]
  },
  {
   "cell_type": "markdown",
   "metadata": {},
   "source": [
    "* Run basic calculations to obtain purchase count, avg. purchase price, avg. purchase total per person etc. by gender\n",
    "\n",
    "\n",
    "\n",
    "\n",
    "* Create a summary data frame to hold the results\n",
    "\n",
    "\n",
    "* Optional: give the displayed data cleaner formatting\n",
    "\n",
    "\n",
    "* Display the summary data frame"
   ]
  },
  {
   "cell_type": "code",
   "execution_count": 216,
   "metadata": {},
   "outputs": [],
   "source": [
    "# Calculate gender counts\n",
    "gender_purchase_counts_df=purchase_data_df[\"Gender\"].value_counts().rename_axis('Gender').to_frame('Purchase Count')"
   ]
  },
  {
   "cell_type": "code",
   "execution_count": 217,
   "metadata": {},
   "outputs": [],
   "source": [
    "# Calculate Average Purchase Price\n",
    "grouped_gender_df = purchase_data_df.groupby('Gender', as_index=False).Price.mean()\n",
    "\n",
    "avg_purchase_price_df= grouped_gender_df.set_index('Gender')\n",
    "\n",
    "avg_purchase_price_df  = avg_purchase_price_df.rename(\n",
    "    columns={\"Price\": \"Average Purchase Price\"})"
   ]
  },
  {
   "cell_type": "code",
   "execution_count": 218,
   "metadata": {},
   "outputs": [],
   "source": [
    "# Calculate Total Purchase Value\n",
    "grouped_gender__total_df = purchase_data_df.groupby('Gender', as_index=False).Price.sum()\n",
    "\n",
    "total_purchase_value_df = grouped_gender__total_df.set_index('Gender')\n",
    "\n",
    "total_purchase_value_df  = total_purchase_value_df .rename(\n",
    "    columns={\"Price\": \"Total Purchase Value\"})"
   ]
  },
  {
   "cell_type": "code",
   "execution_count": 219,
   "metadata": {},
   "outputs": [],
   "source": [
    "#Calculate and merge average per person\n",
    "merge_total_count_and_total_purchase_df =pd.merge(gender_purchase_counts_df, avg_purchase_price_df, on = \"Gender\")\n"
   ]
  },
  {
   "cell_type": "code",
   "execution_count": 220,
   "metadata": {},
   "outputs": [],
   "source": [
    "#Merge count, avg purcchase and total purchase\n",
    "merge_count_avgpurchase_and_total_purchase_df =pd.merge(merge_total_count_and_total_purchase_df, total_purchase_value_df, on = \"Gender\")\n"
   ]
  },
  {
   "cell_type": "code",
   "execution_count": 221,
   "metadata": {},
   "outputs": [],
   "source": [
    "#Calculate and merge average per person\n",
    "merge_total_count_and_total_purchase_df =pd.merge(counted_gender_df, total_purchase_value_df, on = \"Gender\")\n",
    "merge_total_count_and_total_purchase_df\n",
    "merge_total_count_and_total_purchase_df\n",
    "price_average_df = total_purchase_value_df['Total Purchase Value']/counted_gender_df['Total Count']\n",
    "average_per_person_df = pd.DataFrame(price_average_df)\n",
    "average_per_person_df.columns = ['Avg Total Purchase per Person']"
   ]
  },
  {
   "cell_type": "code",
   "execution_count": 264,
   "metadata": {},
   "outputs": [
    {
     "data": {
      "text/html": [
       "<style  type=\"text/css\" >\n",
       "</style><table id=\"T_73f92528_c045_11ea_ab8b_c0b5d77dedda\" ><thead>    <tr>        <th class=\"blank level0\" ></th>        <th class=\"col_heading level0 col0\" >Purchase Count</th>        <th class=\"col_heading level0 col1\" >Average Purchase Price</th>        <th class=\"col_heading level0 col2\" >Total Purchase Value</th>        <th class=\"col_heading level0 col3\" >Avg Total Purchase per Person</th>    </tr>    <tr>        <th class=\"index_name level0\" >Gender</th>        <th class=\"blank\" ></th>        <th class=\"blank\" ></th>        <th class=\"blank\" ></th>        <th class=\"blank\" ></th>    </tr></thead><tbody>\n",
       "                <tr>\n",
       "                        <th id=\"T_73f92528_c045_11ea_ab8b_c0b5d77deddalevel0_row0\" class=\"row_heading level0 row0\" >Male</th>\n",
       "                        <td id=\"T_73f92528_c045_11ea_ab8b_c0b5d77deddarow0_col0\" class=\"data row0 col0\" >652</td>\n",
       "                        <td id=\"T_73f92528_c045_11ea_ab8b_c0b5d77deddarow0_col1\" class=\"data row0 col1\" >$3.02</td>\n",
       "                        <td id=\"T_73f92528_c045_11ea_ab8b_c0b5d77deddarow0_col2\" class=\"data row0 col2\" >$1,967.64</td>\n",
       "                        <td id=\"T_73f92528_c045_11ea_ab8b_c0b5d77deddarow0_col3\" class=\"data row0 col3\" >$4.07</td>\n",
       "            </tr>\n",
       "            <tr>\n",
       "                        <th id=\"T_73f92528_c045_11ea_ab8b_c0b5d77deddalevel0_row1\" class=\"row_heading level0 row1\" >Female</th>\n",
       "                        <td id=\"T_73f92528_c045_11ea_ab8b_c0b5d77deddarow1_col0\" class=\"data row1 col0\" >113</td>\n",
       "                        <td id=\"T_73f92528_c045_11ea_ab8b_c0b5d77deddarow1_col1\" class=\"data row1 col1\" >$3.20</td>\n",
       "                        <td id=\"T_73f92528_c045_11ea_ab8b_c0b5d77deddarow1_col2\" class=\"data row1 col2\" >$361.94</td>\n",
       "                        <td id=\"T_73f92528_c045_11ea_ab8b_c0b5d77deddarow1_col3\" class=\"data row1 col3\" >$4.47</td>\n",
       "            </tr>\n",
       "            <tr>\n",
       "                        <th id=\"T_73f92528_c045_11ea_ab8b_c0b5d77deddalevel0_row2\" class=\"row_heading level0 row2\" >Other / Non-Disclosed</th>\n",
       "                        <td id=\"T_73f92528_c045_11ea_ab8b_c0b5d77deddarow2_col0\" class=\"data row2 col0\" >15</td>\n",
       "                        <td id=\"T_73f92528_c045_11ea_ab8b_c0b5d77deddarow2_col1\" class=\"data row2 col1\" >$3.35</td>\n",
       "                        <td id=\"T_73f92528_c045_11ea_ab8b_c0b5d77deddarow2_col2\" class=\"data row2 col2\" >$50.19</td>\n",
       "                        <td id=\"T_73f92528_c045_11ea_ab8b_c0b5d77deddarow2_col3\" class=\"data row2 col3\" >$4.56</td>\n",
       "            </tr>\n",
       "    </tbody></table>"
      ],
      "text/plain": [
       "<pandas.io.formats.style.Styler at 0x24b7ada6fc8>"
      ]
     },
     "execution_count": 264,
     "metadata": {},
     "output_type": "execute_result"
    }
   ],
   "source": [
    "merge_all_df = pd.merge(merge_count_avgpurchase_and_total_purchase_df, average_per_person_df , on = \"Gender\")\n",
    "merge_all_df.style.format({\"Average Purchase Price\": \"${:,.2f}\", \"Total Purchase Value\": \"${:,.2f}\", \"Avg Total Purchase per Person\": \"${:,.2f}\"})"
   ]
  },
  {
   "cell_type": "markdown",
   "metadata": {},
   "source": [
    "## Age Demographics"
   ]
  },
  {
   "cell_type": "markdown",
   "metadata": {},
   "source": [
    "* Establish bins for ages\n",
    "\n",
    "\n",
    "* Categorize the existing players using the age bins. Hint: use pd.cut()\n",
    "\n",
    "\n",
    "* Calculate the numbers and percentages by age group\n",
    "\n",
    "\n",
    "* Create a summary data frame to hold the results\n",
    "\n",
    "\n",
    "* Optional: round the percentage column to two decimal points\n",
    "\n",
    "\n",
    "* Display Age Demographics Table\n"
   ]
  },
  {
   "cell_type": "code",
   "execution_count": 223,
   "metadata": {},
   "outputs": [
    {
     "name": "stderr",
     "output_type": "stream",
     "text": [
      "C:\\Users\\kwelter\\Anaconda3\\lib\\site-packages\\ipykernel_launcher.py:5: SettingWithCopyWarning: \n",
      "A value is trying to be set on a copy of a slice from a DataFrame.\n",
      "Try using .loc[row_indexer,col_indexer] = value instead\n",
      "\n",
      "See the caveats in the documentation: https://pandas.pydata.org/pandas-docs/stable/user_guide/indexing.html#returning-a-view-versus-a-copy\n",
      "  \"\"\"\n"
     ]
    }
   ],
   "source": [
    "bins = [0, 9, 14, 19, 24, 29, 34, 39, 100]\n",
    "\n",
    "ranges = ['<10', '10-14', '15-19', '20-24', '25-29', '30-34', '35-39', '40+']\n",
    "\n",
    "drop_duplicates_df[\"Age Summary\"]= pd.cut(drop_duplicates_df[\"Age\"], bins, labels=ranges)"
   ]
  },
  {
   "cell_type": "code",
   "execution_count": 224,
   "metadata": {},
   "outputs": [],
   "source": [
    "#Calculate Age Counts\n",
    "\n",
    "age_counts_df=drop_duplicates_df[\"Age Summary\"].value_counts().rename_axis('Age Summary').to_frame('Total Count')\n"
   ]
  },
  {
   "cell_type": "code",
   "execution_count": 225,
   "metadata": {},
   "outputs": [],
   "source": [
    "#Calculate total players\n",
    "total_players_byage_df= age_counts_df[\"Total Count\"].sum()"
   ]
  },
  {
   "cell_type": "code",
   "execution_count": 255,
   "metadata": {},
   "outputs": [],
   "source": [
    "#Calculate Average\n",
    "avg_by_age_df = age_counts_df['Total Count']/total_players_byage_df\n",
    "\n",
    "\n",
    "summary_avg_by_age_df = pd.DataFrame(avg_by_age_df)\n",
    "\n",
    "\n",
    "renamed_age_percentage_df = summary_avg_by_age_df.rename(columns={'Total Count': 'Percentage of Players'})\n"
   ]
  },
  {
   "cell_type": "code",
   "execution_count": 256,
   "metadata": {},
   "outputs": [
    {
     "data": {
      "text/html": [
       "<div>\n",
       "<style scoped>\n",
       "    .dataframe tbody tr th:only-of-type {\n",
       "        vertical-align: middle;\n",
       "    }\n",
       "\n",
       "    .dataframe tbody tr th {\n",
       "        vertical-align: top;\n",
       "    }\n",
       "\n",
       "    .dataframe thead th {\n",
       "        text-align: right;\n",
       "    }\n",
       "</style>\n",
       "<table border=\"1\" class=\"dataframe\">\n",
       "  <thead>\n",
       "    <tr style=\"text-align: right;\">\n",
       "      <th></th>\n",
       "      <th>Total Count</th>\n",
       "      <th>Percentage of Players</th>\n",
       "    </tr>\n",
       "    <tr>\n",
       "      <th>Age Summary</th>\n",
       "      <th></th>\n",
       "      <th></th>\n",
       "    </tr>\n",
       "  </thead>\n",
       "  <tbody>\n",
       "    <tr>\n",
       "      <th>&lt;10</th>\n",
       "      <td>17</td>\n",
       "      <td>0.029514</td>\n",
       "    </tr>\n",
       "    <tr>\n",
       "      <th>10-14</th>\n",
       "      <td>22</td>\n",
       "      <td>0.038194</td>\n",
       "    </tr>\n",
       "    <tr>\n",
       "      <th>15-19</th>\n",
       "      <td>107</td>\n",
       "      <td>0.185764</td>\n",
       "    </tr>\n",
       "    <tr>\n",
       "      <th>20-24</th>\n",
       "      <td>258</td>\n",
       "      <td>0.447917</td>\n",
       "    </tr>\n",
       "    <tr>\n",
       "      <th>25-29</th>\n",
       "      <td>77</td>\n",
       "      <td>0.133681</td>\n",
       "    </tr>\n",
       "    <tr>\n",
       "      <th>30-34</th>\n",
       "      <td>52</td>\n",
       "      <td>0.090278</td>\n",
       "    </tr>\n",
       "    <tr>\n",
       "      <th>35-39</th>\n",
       "      <td>31</td>\n",
       "      <td>0.053819</td>\n",
       "    </tr>\n",
       "    <tr>\n",
       "      <th>40+</th>\n",
       "      <td>12</td>\n",
       "      <td>0.020833</td>\n",
       "    </tr>\n",
       "  </tbody>\n",
       "</table>\n",
       "</div>"
      ],
      "text/plain": [
       "             Total Count  Percentage of Players\n",
       "Age Summary                                    \n",
       "<10                   17               0.029514\n",
       "10-14                 22               0.038194\n",
       "15-19                107               0.185764\n",
       "20-24                258               0.447917\n",
       "25-29                 77               0.133681\n",
       "30-34                 52               0.090278\n",
       "35-39                 31               0.053819\n",
       "40+                   12               0.020833"
      ]
     },
     "execution_count": 256,
     "metadata": {},
     "output_type": "execute_result"
    }
   ],
   "source": [
    "# Merge purchase by age data\n",
    "merge_purchase_age_data_df = pd.merge(age_counts_df, renamed_age_percentage_df  , on = \"Age Summary\")\n",
    "merge_purchase_age_data_df.sort_values(\"Age Summary\")"
   ]
  },
  {
   "cell_type": "markdown",
   "metadata": {},
   "source": [
    "## Purchasing Analysis (Age)"
   ]
  },
  {
   "cell_type": "markdown",
   "metadata": {},
   "source": [
    "* Bin the purchase_data data frame by age\n",
    "\n",
    "\n",
    "* Run basic calculations to obtain purchase count, avg. purchase price, avg. purchase total per person etc. in the table below\n",
    "\n",
    "\n",
    "* Create a summary data frame to hold the results\n",
    "\n",
    "\n",
    "* Optional: give the displayed data cleaner formatting\n",
    "\n",
    "\n",
    "* Display the summary data frame"
   ]
  },
  {
   "cell_type": "code",
   "execution_count": 233,
   "metadata": {},
   "outputs": [],
   "source": [
    "bins = [0, 9, 14, 19, 24, 29, 34, 39, 100]\n",
    "\n",
    "ranges = ['<10', '10-14', '15-19', '20-24', '25-29', '30-34', '35-39', '40+']\n",
    "\n",
    "purchase_data_df[\"Age Summary\"]= pd.cut(purchase_data_df[\"Age\"], bins, labels=ranges)"
   ]
  },
  {
   "cell_type": "code",
   "execution_count": 234,
   "metadata": {},
   "outputs": [],
   "source": [
    "#Calculate Purchase Counts\n",
    "\n",
    "purchase_counts_df=purchase_data_df[\"Age Summary\"].value_counts().rename_axis('Age Summary').to_frame('Purchase Count')\n"
   ]
  },
  {
   "cell_type": "code",
   "execution_count": 235,
   "metadata": {},
   "outputs": [],
   "source": [
    "#Calculate Avg Purchase Price\n",
    "average_price_byage_df = purchase_data_df.groupby('Age Summary', as_index=False).Price.mean()\n",
    "\n",
    "indexed_average_price_byage_df = average_price_byage_df.set_index('Age Summary')\n",
    "\n",
    "indexed_average_price_byage_df = indexed_average_price_byage_df.rename(\n",
    "    columns={\"Price\": \"Average Purchase Price\"})"
   ]
  },
  {
   "cell_type": "code",
   "execution_count": 236,
   "metadata": {},
   "outputs": [],
   "source": [
    "total_price_byage_df = purchase_data_df.groupby('Age Summary', as_index=False).Price.sum()\n",
    "\n",
    "indexed_total_price_byage_df = total_price_byage_df.set_index('Age Summary')\n",
    "\n",
    "indexed_total_price_byage_df = indexed_total_price_byage_df.rename(\n",
    "    columns={\"Price\": \"Total Purchase Value\"})"
   ]
  },
  {
   "cell_type": "code",
   "execution_count": 237,
   "metadata": {},
   "outputs": [],
   "source": [
    "#Avg Total Purchase per Person\n",
    "price_average_per_person_byage_df = indexed_total_price_byage_df['Total Purchase Value']/age_counts_df['Total Count']\n",
    "price_average_byage_df = pd.DataFrame(price_average_per_person_byage_df)\n",
    "\n",
    "price_average_byage_df.columns = ['Avg Total Purchase per Person']"
   ]
  },
  {
   "cell_type": "code",
   "execution_count": 238,
   "metadata": {},
   "outputs": [
    {
     "data": {
      "text/html": [
       "<div>\n",
       "<style scoped>\n",
       "    .dataframe tbody tr th:only-of-type {\n",
       "        vertical-align: middle;\n",
       "    }\n",
       "\n",
       "    .dataframe tbody tr th {\n",
       "        vertical-align: top;\n",
       "    }\n",
       "\n",
       "    .dataframe thead th {\n",
       "        text-align: right;\n",
       "    }\n",
       "</style>\n",
       "<table border=\"1\" class=\"dataframe\">\n",
       "  <thead>\n",
       "    <tr style=\"text-align: right;\">\n",
       "      <th></th>\n",
       "      <th>Purchase Count</th>\n",
       "      <th>Average Purchase Price</th>\n",
       "      <th>Total Purchase Value</th>\n",
       "      <th>Avg Total Purchase per Person</th>\n",
       "    </tr>\n",
       "    <tr>\n",
       "      <th>Age Summary</th>\n",
       "      <th></th>\n",
       "      <th></th>\n",
       "      <th></th>\n",
       "      <th></th>\n",
       "    </tr>\n",
       "  </thead>\n",
       "  <tbody>\n",
       "    <tr>\n",
       "      <th>&lt;10</th>\n",
       "      <td>23</td>\n",
       "      <td>3.353478</td>\n",
       "      <td>77.13</td>\n",
       "      <td>4.537059</td>\n",
       "    </tr>\n",
       "    <tr>\n",
       "      <th>10-14</th>\n",
       "      <td>28</td>\n",
       "      <td>2.956429</td>\n",
       "      <td>82.78</td>\n",
       "      <td>3.762727</td>\n",
       "    </tr>\n",
       "    <tr>\n",
       "      <th>15-19</th>\n",
       "      <td>136</td>\n",
       "      <td>3.035956</td>\n",
       "      <td>412.89</td>\n",
       "      <td>3.858785</td>\n",
       "    </tr>\n",
       "    <tr>\n",
       "      <th>20-24</th>\n",
       "      <td>365</td>\n",
       "      <td>3.052219</td>\n",
       "      <td>1114.06</td>\n",
       "      <td>4.318062</td>\n",
       "    </tr>\n",
       "    <tr>\n",
       "      <th>25-29</th>\n",
       "      <td>101</td>\n",
       "      <td>2.900990</td>\n",
       "      <td>293.00</td>\n",
       "      <td>3.805195</td>\n",
       "    </tr>\n",
       "    <tr>\n",
       "      <th>30-34</th>\n",
       "      <td>73</td>\n",
       "      <td>2.931507</td>\n",
       "      <td>214.00</td>\n",
       "      <td>4.115385</td>\n",
       "    </tr>\n",
       "    <tr>\n",
       "      <th>35-39</th>\n",
       "      <td>41</td>\n",
       "      <td>3.601707</td>\n",
       "      <td>147.67</td>\n",
       "      <td>4.763548</td>\n",
       "    </tr>\n",
       "    <tr>\n",
       "      <th>40+</th>\n",
       "      <td>13</td>\n",
       "      <td>2.941538</td>\n",
       "      <td>38.24</td>\n",
       "      <td>3.186667</td>\n",
       "    </tr>\n",
       "  </tbody>\n",
       "</table>\n",
       "</div>"
      ],
      "text/plain": [
       "             Purchase Count  Average Purchase Price  Total Purchase Value  \\\n",
       "Age Summary                                                                 \n",
       "<10                      23                3.353478                 77.13   \n",
       "10-14                    28                2.956429                 82.78   \n",
       "15-19                   136                3.035956                412.89   \n",
       "20-24                   365                3.052219               1114.06   \n",
       "25-29                   101                2.900990                293.00   \n",
       "30-34                    73                2.931507                214.00   \n",
       "35-39                    41                3.601707                147.67   \n",
       "40+                      13                2.941538                 38.24   \n",
       "\n",
       "             Avg Total Purchase per Person  \n",
       "Age Summary                                 \n",
       "<10                               4.537059  \n",
       "10-14                             3.762727  \n",
       "15-19                             3.858785  \n",
       "20-24                             4.318062  \n",
       "25-29                             3.805195  \n",
       "30-34                             4.115385  \n",
       "35-39                             4.763548  \n",
       "40+                               3.186667  "
      ]
     },
     "execution_count": 238,
     "metadata": {},
     "output_type": "execute_result"
    }
   ],
   "source": [
    "#Merging\n",
    "merge_age_one_df = pd.merge(purchase_counts_df, indexed_average_price_byage_df, on = \"Age Summary\")\n",
    "merge_age_two_df = pd.merge(merge_age_one_df, indexed_total_price_byage_df, on = \"Age Summary\")\n",
    "final_merge_age_df = pd.merge(merge_age_two_df, price_average_byage_df, on = \"Age Summary\")\n",
    "final_merge_age_df.sort_values(\"Age Summary\")"
   ]
  },
  {
   "cell_type": "markdown",
   "metadata": {},
   "source": [
    "## Top Spenders"
   ]
  },
  {
   "cell_type": "markdown",
   "metadata": {},
   "source": [
    "* Run basic calculations to obtain the results in the table below\n",
    "\n",
    "\n",
    "* Create a summary data frame to hold the results\n",
    "\n",
    "\n",
    "* Sort the total purchase value column in descending order\n",
    "\n",
    "\n",
    "* Optional: give the displayed data cleaner formatting\n",
    "\n",
    "\n",
    "* Display a preview of the summary data frame\n",
    "\n"
   ]
  },
  {
   "cell_type": "code",
   "execution_count": 239,
   "metadata": {},
   "outputs": [],
   "source": [
    "#Calculate Purchase Count by Name\n",
    "purchaseSN_count_df = purchase_data_df[\"SN\"].value_counts().rename_axis('Name').to_frame('Purchase Count')"
   ]
  },
  {
   "cell_type": "code",
   "execution_count": 240,
   "metadata": {},
   "outputs": [],
   "source": [
    "#Calculate Total Purchase Value by Name\n",
    "grouped_SN__total_df = purchase_data_df.groupby('SN', as_index=False).Price.sum()\n",
    "\n",
    "totalSN_purchase_value_df = grouped_SN__total_df.set_index('SN')\n",
    "\n",
    "totalSN_purchase_value_df  = totalSN_purchase_value_df .rename(\n",
    "        columns={\"Price\": \"Total Purchase Value\"})\n",
    "\n",
    "totalSN_purchase_value_df.index.rename('Name',inplace=True)"
   ]
  },
  {
   "cell_type": "code",
   "execution_count": 241,
   "metadata": {},
   "outputs": [],
   "source": [
    "# Calculate Average Purchase Price by Name\n",
    "priceSN_average_df = totalSN_purchase_value_df['Total Purchase Value']/purchaseSN_count_df['Purchase Count']\n",
    "averageSN_per_person_df = pd.DataFrame(priceSN_average_df)\n",
    "\n",
    "averageSN_per_person_df.columns = ['Avg Purchase Price']\n",
    "\n",
    "averageSN_per_person_df.index.rename('Name',inplace=True)"
   ]
  },
  {
   "cell_type": "code",
   "execution_count": 242,
   "metadata": {},
   "outputs": [
    {
     "data": {
      "text/html": [
       "<div>\n",
       "<style scoped>\n",
       "    .dataframe tbody tr th:only-of-type {\n",
       "        vertical-align: middle;\n",
       "    }\n",
       "\n",
       "    .dataframe tbody tr th {\n",
       "        vertical-align: top;\n",
       "    }\n",
       "\n",
       "    .dataframe thead th {\n",
       "        text-align: right;\n",
       "    }\n",
       "</style>\n",
       "<table border=\"1\" class=\"dataframe\">\n",
       "  <thead>\n",
       "    <tr style=\"text-align: right;\">\n",
       "      <th></th>\n",
       "      <th>Purchase Count</th>\n",
       "      <th>Avg Purchase Price</th>\n",
       "      <th>Total Purchase Value</th>\n",
       "    </tr>\n",
       "    <tr>\n",
       "      <th>Name</th>\n",
       "      <th></th>\n",
       "      <th></th>\n",
       "      <th></th>\n",
       "    </tr>\n",
       "  </thead>\n",
       "  <tbody>\n",
       "    <tr>\n",
       "      <th>Lisosia93</th>\n",
       "      <td>5</td>\n",
       "      <td>3.792000</td>\n",
       "      <td>18.96</td>\n",
       "    </tr>\n",
       "    <tr>\n",
       "      <th>Idastidru52</th>\n",
       "      <td>4</td>\n",
       "      <td>3.862500</td>\n",
       "      <td>15.45</td>\n",
       "    </tr>\n",
       "    <tr>\n",
       "      <th>Chamjask73</th>\n",
       "      <td>3</td>\n",
       "      <td>4.610000</td>\n",
       "      <td>13.83</td>\n",
       "    </tr>\n",
       "    <tr>\n",
       "      <th>Iral74</th>\n",
       "      <td>4</td>\n",
       "      <td>3.405000</td>\n",
       "      <td>13.62</td>\n",
       "    </tr>\n",
       "    <tr>\n",
       "      <th>Iskadarya95</th>\n",
       "      <td>3</td>\n",
       "      <td>4.366667</td>\n",
       "      <td>13.10</td>\n",
       "    </tr>\n",
       "  </tbody>\n",
       "</table>\n",
       "</div>"
      ],
      "text/plain": [
       "             Purchase Count  Avg Purchase Price  Total Purchase Value\n",
       "Name                                                                 \n",
       "Lisosia93                 5            3.792000                 18.96\n",
       "Idastidru52               4            3.862500                 15.45\n",
       "Chamjask73                3            4.610000                 13.83\n",
       "Iral74                    4            3.405000                 13.62\n",
       "Iskadarya95               3            4.366667                 13.10"
      ]
     },
     "execution_count": 242,
     "metadata": {},
     "output_type": "execute_result"
    }
   ],
   "source": [
    "merge_SN_df = pd.merge(purchaseSN_count_df, averageSN_per_person_df, on = \"Name\")\n",
    "\n",
    "\n",
    "final_merge_df = pd.merge(merge_SN_df, totalSN_purchase_value_df, on = \"Name\")\n",
    "final_merge_df.sort_values(\"Total Purchase Value\", ascending=False).head()"
   ]
  },
  {
   "cell_type": "markdown",
   "metadata": {},
   "source": [
    "## Most Popular Items"
   ]
  },
  {
   "cell_type": "markdown",
   "metadata": {},
   "source": [
    "* Retrieve the Item ID, Item Name, and Item Price columns\n",
    "\n",
    "\n",
    "* Group by Item ID and Item Name. Perform calculations to obtain purchase count, item price, and total purchase value\n",
    "\n",
    "\n",
    "* Create a summary data frame to hold the results\n",
    "\n",
    "\n",
    "* Sort the purchase count column in descending order\n",
    "\n",
    "\n",
    "* Optional: give the displayed data cleaner formatting\n",
    "\n",
    "\n",
    "* Display a preview of the summary data frame\n",
    "\n"
   ]
  },
  {
   "cell_type": "code",
   "execution_count": 243,
   "metadata": {},
   "outputs": [],
   "source": [
    "#v Most Popular Item\n",
    "popular_count_df = purchase_data_df[\"Item Name\"].value_counts().rename_axis('Item Name').to_frame('Purchase Count')"
   ]
  },
  {
   "cell_type": "code",
   "execution_count": 187,
   "metadata": {},
   "outputs": [],
   "source": [
    "# List Item Price \n",
    "grouped_item__total_df = purchase_data_df.groupby('Item Name', as_index=False).Price.sum()\n",
    "\n",
    "item_price_df = grouped_item__total_df.set_index('Item Name')\n"
   ]
  },
  {
   "cell_type": "code",
   "execution_count": 188,
   "metadata": {},
   "outputs": [],
   "source": [
    "#Calculate Price\n",
    "#Calculate Total Purchase Value by Name\n",
    "grouped_item__total_df = purchase_data_df.groupby('Item Name', as_index=False).Price.sum()\n",
    "\n",
    "totalITEM_purchase_value_df = grouped_item__total_df.set_index('Item Name')\n",
    "\n",
    "totalITEM_purchase_value_df = totalITEM_purchase_value_df .rename(\n",
    "        columns={\"Price\": \"Total Purchase Value\"})\n",
    "\n",
    "totalITEM_purchase_value_df.index.rename('Item Name',inplace=True)\n"
   ]
  },
  {
   "cell_type": "code",
   "execution_count": 244,
   "metadata": {},
   "outputs": [
    {
     "data": {
      "text/html": [
       "<div>\n",
       "<style scoped>\n",
       "    .dataframe tbody tr th:only-of-type {\n",
       "        vertical-align: middle;\n",
       "    }\n",
       "\n",
       "    .dataframe tbody tr th {\n",
       "        vertical-align: top;\n",
       "    }\n",
       "\n",
       "    .dataframe thead th {\n",
       "        text-align: right;\n",
       "    }\n",
       "</style>\n",
       "<table border=\"1\" class=\"dataframe\">\n",
       "  <thead>\n",
       "    <tr style=\"text-align: right;\">\n",
       "      <th></th>\n",
       "      <th>Purchase Count</th>\n",
       "      <th>Price</th>\n",
       "      <th>Total Purchase Value</th>\n",
       "    </tr>\n",
       "    <tr>\n",
       "      <th>Item Name</th>\n",
       "      <th></th>\n",
       "      <th></th>\n",
       "      <th></th>\n",
       "    </tr>\n",
       "  </thead>\n",
       "  <tbody>\n",
       "    <tr>\n",
       "      <th>Final Critic</th>\n",
       "      <td>13</td>\n",
       "      <td>59.99</td>\n",
       "      <td>59.99</td>\n",
       "    </tr>\n",
       "    <tr>\n",
       "      <th>Oathbreaker, Last Hope of the Breaking Storm</th>\n",
       "      <td>12</td>\n",
       "      <td>50.76</td>\n",
       "      <td>50.76</td>\n",
       "    </tr>\n",
       "    <tr>\n",
       "      <th>Nirvana</th>\n",
       "      <td>9</td>\n",
       "      <td>44.10</td>\n",
       "      <td>44.10</td>\n",
       "    </tr>\n",
       "    <tr>\n",
       "      <th>Extraction, Quickblade Of Trembling Hands</th>\n",
       "      <td>9</td>\n",
       "      <td>31.77</td>\n",
       "      <td>31.77</td>\n",
       "    </tr>\n",
       "    <tr>\n",
       "      <th>Fiery Glass Crusader</th>\n",
       "      <td>9</td>\n",
       "      <td>41.22</td>\n",
       "      <td>41.22</td>\n",
       "    </tr>\n",
       "    <tr>\n",
       "      <th>Persuasion</th>\n",
       "      <td>9</td>\n",
       "      <td>28.99</td>\n",
       "      <td>28.99</td>\n",
       "    </tr>\n",
       "  </tbody>\n",
       "</table>\n",
       "</div>"
      ],
      "text/plain": [
       "                                              Purchase Count  Price  \\\n",
       "Item Name                                                             \n",
       "Final Critic                                              13  59.99   \n",
       "Oathbreaker, Last Hope of the Breaking Storm              12  50.76   \n",
       "Nirvana                                                    9  44.10   \n",
       "Extraction, Quickblade Of Trembling Hands                  9  31.77   \n",
       "Fiery Glass Crusader                                       9  41.22   \n",
       "Persuasion                                                 9  28.99   \n",
       "\n",
       "                                              Total Purchase Value  \n",
       "Item Name                                                           \n",
       "Final Critic                                                 59.99  \n",
       "Oathbreaker, Last Hope of the Breaking Storm                 50.76  \n",
       "Nirvana                                                      44.10  \n",
       "Extraction, Quickblade Of Trembling Hands                    31.77  \n",
       "Fiery Glass Crusader                                         41.22  \n",
       "Persuasion                                                   28.99  "
      ]
     },
     "execution_count": 244,
     "metadata": {},
     "output_type": "execute_result"
    }
   ],
   "source": [
    "# Merging Data\n",
    "popular_merge_df = pd.merge(popular_count_df, item_price_df, on = \"Item Name\")\n",
    "\n",
    "popular_merge2_df = pd.merge(popular_merge_df , totalITEM_purchase_value_df, on = \"Item Name\")\n",
    "popular_merge2_df.head(6)"
   ]
  },
  {
   "cell_type": "markdown",
   "metadata": {},
   "source": [
    "## Most Profitable Items"
   ]
  },
  {
   "cell_type": "markdown",
   "metadata": {},
   "source": [
    "* Sort the above table by total purchase value in descending order\n",
    "\n",
    "\n",
    "* Optional: give the displayed data cleaner formatting\n",
    "\n",
    "\n",
    "* Display a preview of the data frame\n",
    "\n"
   ]
  },
  {
   "cell_type": "code",
   "execution_count": 245,
   "metadata": {
    "scrolled": true
   },
   "outputs": [
    {
     "data": {
      "text/html": [
       "<div>\n",
       "<style scoped>\n",
       "    .dataframe tbody tr th:only-of-type {\n",
       "        vertical-align: middle;\n",
       "    }\n",
       "\n",
       "    .dataframe tbody tr th {\n",
       "        vertical-align: top;\n",
       "    }\n",
       "\n",
       "    .dataframe thead th {\n",
       "        text-align: right;\n",
       "    }\n",
       "</style>\n",
       "<table border=\"1\" class=\"dataframe\">\n",
       "  <thead>\n",
       "    <tr style=\"text-align: right;\">\n",
       "      <th></th>\n",
       "      <th>Purchase Count</th>\n",
       "      <th>Price</th>\n",
       "      <th>Total Purchase Value</th>\n",
       "    </tr>\n",
       "    <tr>\n",
       "      <th>Item Name</th>\n",
       "      <th></th>\n",
       "      <th></th>\n",
       "      <th></th>\n",
       "    </tr>\n",
       "  </thead>\n",
       "  <tbody>\n",
       "    <tr>\n",
       "      <th>Final Critic</th>\n",
       "      <td>13</td>\n",
       "      <td>59.99</td>\n",
       "      <td>59.99</td>\n",
       "    </tr>\n",
       "    <tr>\n",
       "      <th>Oathbreaker, Last Hope of the Breaking Storm</th>\n",
       "      <td>12</td>\n",
       "      <td>50.76</td>\n",
       "      <td>50.76</td>\n",
       "    </tr>\n",
       "    <tr>\n",
       "      <th>Nirvana</th>\n",
       "      <td>9</td>\n",
       "      <td>44.10</td>\n",
       "      <td>44.10</td>\n",
       "    </tr>\n",
       "    <tr>\n",
       "      <th>Fiery Glass Crusader</th>\n",
       "      <td>9</td>\n",
       "      <td>41.22</td>\n",
       "      <td>41.22</td>\n",
       "    </tr>\n",
       "    <tr>\n",
       "      <th>Singed Scalpel</th>\n",
       "      <td>8</td>\n",
       "      <td>34.80</td>\n",
       "      <td>34.80</td>\n",
       "    </tr>\n",
       "  </tbody>\n",
       "</table>\n",
       "</div>"
      ],
      "text/plain": [
       "                                              Purchase Count  Price  \\\n",
       "Item Name                                                             \n",
       "Final Critic                                              13  59.99   \n",
       "Oathbreaker, Last Hope of the Breaking Storm              12  50.76   \n",
       "Nirvana                                                    9  44.10   \n",
       "Fiery Glass Crusader                                       9  41.22   \n",
       "Singed Scalpel                                             8  34.80   \n",
       "\n",
       "                                              Total Purchase Value  \n",
       "Item Name                                                           \n",
       "Final Critic                                                 59.99  \n",
       "Oathbreaker, Last Hope of the Breaking Storm                 50.76  \n",
       "Nirvana                                                      44.10  \n",
       "Fiery Glass Crusader                                         41.22  \n",
       "Singed Scalpel                                               34.80  "
      ]
     },
     "execution_count": 245,
     "metadata": {},
     "output_type": "execute_result"
    }
   ],
   "source": [
    "popular_merge2_df.sort_values(\"Total Purchase Value\", ascending = False).head()\n"
   ]
  }
 ],
 "metadata": {
  "anaconda-cloud": {},
  "kernel_info": {
   "name": "python3"
  },
  "kernelspec": {
   "display_name": "Python 3",
   "language": "python",
   "name": "python3"
  },
  "language_info": {
   "codemirror_mode": {
    "name": "ipython",
    "version": 3
   },
   "file_extension": ".py",
   "mimetype": "text/x-python",
   "name": "python",
   "nbconvert_exporter": "python",
   "pygments_lexer": "ipython3",
   "version": "3.7.6"
  },
  "latex_envs": {
   "LaTeX_envs_menu_present": true,
   "autoclose": false,
   "autocomplete": true,
   "bibliofile": "biblio.bib",
   "cite_by": "apalike",
   "current_citInitial": 1,
   "eqLabelWithNumbers": true,
   "eqNumInitial": 1,
   "hotkeys": {
    "equation": "Ctrl-E",
    "itemize": "Ctrl-I"
   },
   "labels_anchors": false,
   "latex_user_defs": false,
   "report_style_numbering": false,
   "user_envs_cfg": false
  },
  "nteract": {
   "version": "0.2.0"
  }
 },
 "nbformat": 4,
 "nbformat_minor": 2
}
